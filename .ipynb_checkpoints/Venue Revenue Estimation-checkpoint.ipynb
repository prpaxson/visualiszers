{
 "cells": [
  {
   "cell_type": "code",
   "execution_count": 8,
   "metadata": {},
   "outputs": [],
   "source": [
    "from ipywidgets import widgets"
   ]
  },
  {
   "cell_type": "code",
   "execution_count": 47,
   "metadata": {},
   "outputs": [
    {
     "data": {
      "application/vnd.jupyter.widget-view+json": {
       "model_id": "6421596226db4e2c8039737c67fe4e6b",
       "version_major": 2,
       "version_minor": 0
      },
      "text/plain": [
       "interactive(children=(IntSlider(value=30, description='attendees', max=60), IntSlider(value=20, description='t…"
      ]
     },
     "metadata": {},
     "output_type": "display_data"
    }
   ],
   "source": [
    "def calculate_totals(attendees, ticket_cost, door_split, menu_expense, menu_markup):\n",
    "    print(\"Number of attendees:   \", attendees)\n",
    "    print(\"Ticket Cost:          $\", ticket_cost)\n",
    "    print(\"Door Split for Artist: \", door_split, \"%\")\n",
    "    print(\"Food/Drink expenses:  $\", menu_expense)\n",
    "    print(\"Food/Drink Markup:     \", menu_markup, \"%\")\n",
    "    print(\"\\n\")\n",
    "    print(\"========= TOTALS =========\")\n",
    "    print(\"Artist Revenue: $\", \"{:10.2f}\".format(attendees*ticket_cost*door_split/100))\n",
    "    print(\"House Revenue:  $\", \"{:10.2f}\".format(attendees*ticket_cost*(1-door_split/100) + attendees*menu_expense*menu_markup/100))\n",
    "    print(\"\\n\")\n",
    "    print(\"RVSP Cap    : \", \"{:10.0f}\".format(attendees*1.1))\n",
    "    print(\"Waitlist Cap: \", \"{:10.0f}\".format(attendees*1.1*0.3))\n",
    "a = widgets.IntSlider(min=0, max=60, value=30)\n",
    "b= widgets.IntSlider(min=0, max=100, step=1, value=20)\n",
    "c= widgets.IntSlider(min=50,max=100,step=1, value=80)\n",
    "d= widgets.IntSlider(min=0,max=100,step=1)\n",
    "e= widgets.IntSlider(min=0,max=1000,step=1)\n",
    "interact(calculate_totals,attendees=a, ticket_cost=b, door_split=c, menu_expense=d, menu_markup=e);"
   ]
  },
  {
   "cell_type": "code",
   "execution_count": null,
   "metadata": {},
   "outputs": [],
   "source": []
  }
 ],
 "metadata": {
  "kernelspec": {
   "display_name": "Python 3",
   "language": "python",
   "name": "python3"
  },
  "language_info": {
   "codemirror_mode": {
    "name": "ipython",
    "version": 3
   },
   "file_extension": ".py",
   "mimetype": "text/x-python",
   "name": "python",
   "nbconvert_exporter": "python",
   "pygments_lexer": "ipython3",
   "version": "3.8.17"
  }
 },
 "nbformat": 4,
 "nbformat_minor": 4
}
